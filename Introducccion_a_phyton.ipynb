{
  "cells": [
    {
      "cell_type": "markdown",
      "metadata": {
        "id": "view-in-github",
        "colab_type": "text"
      },
      "source": [
        "<a href=\"https://colab.research.google.com/github/ingeniero-samuel/Clases/blob/main/Introducccion_a_phyton.ipynb\" target=\"_parent\"><img src=\"https://colab.research.google.com/assets/colab-badge.svg\" alt=\"Open In Colab\"/></a>"
      ]
    },
    {
      "cell_type": "code",
      "source": [
        "class Myclass:\n",
        "  pass\n",
        "\n",
        "class_instance = Myclass()\n",
        "#print(class_instance)"
      ],
      "metadata": {
        "id": "71Fqoh2svWH2",
        "colab": {
          "base_uri": "https://localhost:8080/"
        },
        "outputId": "c7878b3e-1414-478f-8824-0ea7156ccfc9"
      },
      "execution_count": 1,
      "outputs": [
        {
          "output_type": "stream",
          "name": "stdout",
          "text": [
            "<__main__.Myclass object at 0x7d1a1ee38d60>\n"
          ]
        }
      ]
    },
    {
      "cell_type": "code",
      "source": [
        "class Robot:\n",
        "  material = \"hierro\"\n",
        "\n",
        "  def saludo_walle(self):\n",
        "    print(\"Evaaaaa!\")\n",
        "\n",
        "  def saludo_eva(self):\n",
        "    print(\"Walleee!\")\n",
        "\n",
        "  def disparando_protectiles(self, proyectiles):\n",
        "    print(f\"disparando {proyectiles} proyectiles \")\n",
        "\n",
        "walle, eva = Robot(), Robot() #ambos son robots (lo definimos con la clase Robot)\n",
        "print(walle, eva)\n",
        "\n",
        "print(type(walle)) #este sera de tipo Walle\n",
        "\n",
        "print(walle.material), print(eva.material)  #llamamos el material de que esta hecho Walle y Eva\n",
        "\n",
        "walle.saludo_walle(), eva.saludo_eva() #ambos pueden saludar\n",
        "\n",
        "eva.disparando_protectiles(4) #disparando proyectiles por parte de Eva"
      ],
      "metadata": {
        "colab": {
          "base_uri": "https://localhost:8080/"
        },
        "id": "Cb8xccXv1SWR",
        "outputId": "685ff22d-018c-42c9-f974-f3966b42b98d"
      },
      "execution_count": 17,
      "outputs": [
        {
          "output_type": "stream",
          "name": "stdout",
          "text": [
            "<__main__.Robot object at 0x7d1a1ee3afb0> <__main__.Robot object at 0x7d1a1ee396f0>\n",
            "<class '__main__.Robot'>\n",
            "hierro\n",
            "hierro\n",
            "Evaaaaa!\n",
            "Walleee!\n",
            "disparando 4 proyectiles \n"
          ]
        }
      ]
    },
    {
      "cell_type": "code",
      "source": [
        "# Constructores\n",
        "class Robot:\n",
        "  material = \"hierro\"\n",
        "\n",
        "  def __init__(self, model, name, tarea):\n",
        "    self.model = model\n",
        "    self.name = name\n",
        "    self.tarea = tarea\n",
        "\n",
        "  def __repr__(self): # le ofrese una identificacion a la clase para que se presente (solo return nada de print())\n",
        "    return f\"hola soy el robot {self.name} y fui diseñado para {self.tarea}\"\n",
        "\n",
        "  def saludo(self):\n",
        "    print(f\"hola humano mi nombre es: {self.name}, soy el modelo: {self.model}\")\n",
        "\n",
        "walle, eva = Robot(\"modelo_walle\", \"WALL-E\",\"Recoger Basura\" ), Robot(\"modelo_eva\", \"EVA\", \"Explorar planetas\")\n",
        "\n",
        "walle.saludo()\n",
        "eva.saludo()\n",
        "print(walle)\n",
        "print(eva)\n",
        "\n"
      ],
      "metadata": {
        "colab": {
          "base_uri": "https://localhost:8080/"
        },
        "id": "C0MD-TWq2iRg",
        "outputId": "1d6f82f2-82f1-454f-dd0d-db8817487309"
      },
      "execution_count": 38,
      "outputs": [
        {
          "output_type": "stream",
          "name": "stdout",
          "text": [
            "hola humano mi nombre es: WALL-E, soy el modelo: modelo_walle\n",
            "hola humano mi nombre es: EVA, soy el modelo: modelo_eva\n",
            "hola soy el robot WALL-E y fui diseñado para Recoger Basura\n",
            "hola soy el robot EVA y fui diseñado para Explorar planetas\n"
          ]
        }
      ]
    },
    {
      "cell_type": "code",
      "source": [
        "import random\n",
        "\n",
        "class JuegoCaraOsello:\n",
        "\n",
        "  # Construyendo a los jugadores y sus puntajes con una funcion\n",
        "  def __init__(self, jugador_1, jugador_2):\n",
        "    self.jugador_1 = jugador_1\n",
        "    self.jugador_2 = jugador_2\n",
        "    self.puntos_jugador_1 = 0\n",
        "    self.puntos_jugador_2 = 0\n",
        "\n",
        "  # Funcion de lanzando la moneda\n",
        "  def lanzar_moneda(self):\n",
        "    return random.choice([1,2]) # tener en cuenta esto random.choice([1,2])\n",
        "\n",
        "  def jugar_ronda(self): #juega la ronda\n",
        "    resultado_jugador_1 = self.lanzar_moneda() #\n",
        "    resultado_jugador_2 = self.lanzar_moneda() #\n",
        "\n",
        "    print(f\"{self.jugador1} eligió: {'cara' if resultado_jugador_1 == 1 else 'sello'}\") #\n",
        "    print(f\"{self.jugador2} eligió: {'cara' if resultado_jugador_2 == 1 else 'sello'}\") #\n",
        "\n",
        "    if resultado_jugador_1 == resultado_jugador_2:\n",
        "      print(\"Empate en esta ronda\")\n",
        "    elif resultado_jugador_1 == 1:\n",
        "      print(f\"{self.jugador1} gana esta ronda.\")\n",
        "      self.puntos_jugador_1 += 1\n",
        "    else:\n",
        "      print(f\"{self.jugador2} gana esta ronda.\")\n",
        "      self.puntos_jugador2 += 1\n",
        "\n",
        "  #def jugar(self, rondas):\n",
        "    #for ronda in range(rondas):\n",
        "      #print(f\"\\nRonda {ronda + 1}:\")\n",
        "      #eleccion_jugador1 = int(input(f\"{self.jugador1}, elige (1) cara o (2) sello: \"))\n",
        "      #eleccion_jugador2 = int(input(f\"{self.jugador2}, elige (1) cara o (2) sello: \"))\n",
        "\n",
        "      #self.jugar_ronda(eleccion_jugador1,eleccion_jugador2)\n",
        "\n",
        "  #def mostrar_puntuacion(self):\n",
        "       # print(f\"\\nPuntuación final:\")\n",
        "       # print(f\"{self.jugador1}: {self.puntos_jugador1} puntos\")\n",
        "       # print(f\"{self.jugador2}: {self.puntos_jugador2} puntos\")\n",
        "\n",
        "# Solicitar nombres de los jugadores\n",
        "#jugador1 = input(\"Ingrese el nombre del Jugador 1: \")\n",
        "#jugador2 = input(\"Ingrese el nombre del Jugador 2: \")\n",
        "\n",
        "# Crear el juego\n",
        "#juego = JuegoCaraOsello(jugador1, jugador2)\n",
        "\n",
        "# Jugar 5 rondas\n",
        "#juego.jugar(5)\n",
        "\n",
        "# Mostrar puntuación final\n",
        "#juego.mostrar_puntuacion()\n",
        "\n",
        "\n",
        "\n",
        "\n",
        "\n",
        "\n"
      ],
      "metadata": {
        "id": "8qZu6BUF_qoX"
      },
      "execution_count": 39,
      "outputs": []
    }
  ],
  "metadata": {
    "colab": {
      "provenance": [],
      "include_colab_link": true
    },
    "kernelspec": {
      "display_name": "Python 3",
      "name": "python3"
    }
  },
  "nbformat": 4,
  "nbformat_minor": 0
}