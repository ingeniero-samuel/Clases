{
  "cells": [
    {
      "cell_type": "markdown",
      "metadata": {
        "id": "view-in-github",
        "colab_type": "text"
      },
      "source": [
        "<a href=\"https://colab.research.google.com/github/ingeniero-samuel/Clases/blob/main/Introducccion_a_phyton.ipynb\" target=\"_parent\"><img src=\"https://colab.research.google.com/assets/colab-badge.svg\" alt=\"Open In Colab\"/></a>"
      ]
    },
    {
      "cell_type": "code",
      "source": [
        "class Myclass:\n",
        "  pass\n",
        "\n",
        "class_instance = Myclass()\n",
        "#print(class_instance)"
      ],
      "metadata": {
        "id": "71Fqoh2svWH2",
        "colab": {
          "base_uri": "https://localhost:8080/"
        },
        "outputId": "c7878b3e-1414-478f-8824-0ea7156ccfc9"
      },
      "execution_count": 1,
      "outputs": [
        {
          "output_type": "stream",
          "name": "stdout",
          "text": [
            "<__main__.Myclass object at 0x7d1a1ee38d60>\n"
          ]
        }
      ]
    },
    {
      "cell_type": "code",
      "source": [
        "class Robot:\n",
        "  material = \"hierro\"\n",
        "\n",
        "walle = Robot()\n",
        "eva = Robot()\n",
        "print(walle)\n",
        "print(type(walle))\n",
        "print(walle.material)\n",
        "print(eva.material)"
      ],
      "metadata": {
        "colab": {
          "base_uri": "https://localhost:8080/"
        },
        "id": "Cb8xccXv1SWR",
        "outputId": "796ffcd1-9999-482a-9e0c-ff4689e0bb82"
      },
      "execution_count": 6,
      "outputs": [
        {
          "output_type": "stream",
          "name": "stdout",
          "text": [
            "<__main__.Robot object at 0x7d1a1edff4f0>\n",
            "<class '__main__.Robot'>\n",
            "hierro\n",
            "hierro\n"
          ]
        }
      ]
    }
  ],
  "metadata": {
    "colab": {
      "provenance": [],
      "include_colab_link": true
    },
    "kernelspec": {
      "display_name": "Python 3",
      "name": "python3"
    }
  },
  "nbformat": 4,
  "nbformat_minor": 0
}